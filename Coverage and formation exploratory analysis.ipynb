{
  "nbformat": 4,
  "nbformat_minor": 0,
  "metadata": {
    "colab": {
      "name": "Exploratory.ipynb",
      "provenance": [],
      "collapsed_sections": [],
      "authorship_tag": "ABX9TyPO4cEoEEab1GK/IwOi9ooF"
    },
    "kernelspec": {
      "name": "python3",
      "display_name": "Python 3"
    }
  },
  "cells": [
    {
      "cell_type": "code",
      "metadata": {
        "colab": {
          "base_uri": "https://localhost:8080/"
        },
        "id": "VZcAtYWwE7Q2",
        "outputId": "82d99832-71f7-484b-e225-88ea424e612e"
      },
      "source": [
        "import math\r\n",
        "import numpy as np\r\n",
        "import datetime\r\n",
        "import pandas as pd\r\n",
        "import matplotlib.pyplot as plt\r\n"
      ],
      "execution_count": null,
      "outputs": [
        {
          "output_type": "stream",
          "text": [
            "Mounted at /content/drive\n"
          ],
          "name": "stdout"
        }
      ]
    },
    {
      "cell_type": "code",
      "metadata": {
        "id": "nxwE3FgFFfNA"
      },
      "source": [
        "plays_final = pd.read_csv('plays_final.csv', index_col= 'Unnamed: 0')"
      ],
      "execution_count": null,
      "outputs": []
    },
    {
      "cell_type": "code",
      "metadata": {
        "colab": {
          "base_uri": "https://localhost:8080/",
          "height": 394
        },
        "id": "XOuARKM7FvF7",
        "outputId": "12012668-e6cd-4836-a062-3c5c4a1477c2"
      },
      "source": [
        "plays_final.head()"
      ],
      "execution_count": null,
      "outputs": [
        {
          "output_type": "execute_result",
          "data": {
            "text/html": [
              "<div>\n",
              "<style scoped>\n",
              "    .dataframe tbody tr th:only-of-type {\n",
              "        vertical-align: middle;\n",
              "    }\n",
              "\n",
              "    .dataframe tbody tr th {\n",
              "        vertical-align: top;\n",
              "    }\n",
              "\n",
              "    .dataframe thead th {\n",
              "        text-align: right;\n",
              "    }\n",
              "</style>\n",
              "<table border=\"1\" class=\"dataframe\">\n",
              "  <thead>\n",
              "    <tr style=\"text-align: right;\">\n",
              "      <th></th>\n",
              "      <th>gameId</th>\n",
              "      <th>playId</th>\n",
              "      <th>playDescription</th>\n",
              "      <th>quarter</th>\n",
              "      <th>down</th>\n",
              "      <th>yardsToGo</th>\n",
              "      <th>possessionTeam</th>\n",
              "      <th>playType</th>\n",
              "      <th>yardlineSide</th>\n",
              "      <th>yardlineNumber</th>\n",
              "      <th>offenseFormation</th>\n",
              "      <th>personnelO</th>\n",
              "      <th>defendersInTheBox</th>\n",
              "      <th>numberOfPassRushers</th>\n",
              "      <th>personnelD</th>\n",
              "      <th>typeDropback</th>\n",
              "      <th>preSnapVisitorScore</th>\n",
              "      <th>preSnapHomeScore</th>\n",
              "      <th>gameClock</th>\n",
              "      <th>absoluteYardlineNumber</th>\n",
              "      <th>penaltyCodes</th>\n",
              "      <th>penaltyJerseyNumbers</th>\n",
              "      <th>passResult</th>\n",
              "      <th>offensePlayResult</th>\n",
              "      <th>playResult</th>\n",
              "      <th>epa</th>\n",
              "      <th>isDefensivePI</th>\n",
              "      <th>coverage</th>\n",
              "      <th>Trips</th>\n",
              "      <th>Trips_Side</th>\n",
              "      <th>Routes</th>\n",
              "      <th>offense</th>\n",
              "      <th>defense</th>\n",
              "    </tr>\n",
              "  </thead>\n",
              "  <tbody>\n",
              "    <tr>\n",
              "      <th>0</th>\n",
              "      <td>2018090600</td>\n",
              "      <td>75</td>\n",
              "      <td>(15:00) M.Ryan pass short right to J.Jones pus...</td>\n",
              "      <td>1</td>\n",
              "      <td>1</td>\n",
              "      <td>15</td>\n",
              "      <td>ATL</td>\n",
              "      <td>play_type_pass</td>\n",
              "      <td>ATL</td>\n",
              "      <td>20</td>\n",
              "      <td>I_FORM</td>\n",
              "      <td>2 RB, 1 TE, 2 WR</td>\n",
              "      <td>7.0</td>\n",
              "      <td>4.0</td>\n",
              "      <td>4 DL, 2 LB, 5 DB</td>\n",
              "      <td>TRADITIONAL</td>\n",
              "      <td>0.0</td>\n",
              "      <td>0.0</td>\n",
              "      <td>15:00:00</td>\n",
              "      <td>90.0</td>\n",
              "      <td>NaN</td>\n",
              "      <td>NaN</td>\n",
              "      <td>C</td>\n",
              "      <td>10</td>\n",
              "      <td>10</td>\n",
              "      <td>0.261827</td>\n",
              "      <td>False</td>\n",
              "      <td>cover 3</td>\n",
              "      <td>No</td>\n",
              "      <td>NaN</td>\n",
              "      <td>OUT|MID|HITCH:HITCH</td>\n",
              "      <td>ATL</td>\n",
              "      <td>PHI</td>\n",
              "    </tr>\n",
              "    <tr>\n",
              "      <th>1</th>\n",
              "      <td>2018090600</td>\n",
              "      <td>146</td>\n",
              "      <td>(13:10) M.Ryan pass incomplete short right to ...</td>\n",
              "      <td>1</td>\n",
              "      <td>1</td>\n",
              "      <td>10</td>\n",
              "      <td>ATL</td>\n",
              "      <td>play_type_pass</td>\n",
              "      <td>PHI</td>\n",
              "      <td>39</td>\n",
              "      <td>SINGLEBACK</td>\n",
              "      <td>1 RB, 1 TE, 3 WR</td>\n",
              "      <td>7.0</td>\n",
              "      <td>4.0</td>\n",
              "      <td>4 DL, 2 LB, 5 DB</td>\n",
              "      <td>TRADITIONAL</td>\n",
              "      <td>0.0</td>\n",
              "      <td>0.0</td>\n",
              "      <td>13:10:00</td>\n",
              "      <td>49.0</td>\n",
              "      <td>NaN</td>\n",
              "      <td>NaN</td>\n",
              "      <td>I</td>\n",
              "      <td>0</td>\n",
              "      <td>0</td>\n",
              "      <td>-0.372360</td>\n",
              "      <td>False</td>\n",
              "      <td>cover 3</td>\n",
              "      <td>No</td>\n",
              "      <td>NaN</td>\n",
              "      <td>HITCH:CROSS|MID|FLAT:HITCH</td>\n",
              "      <td>ATL</td>\n",
              "      <td>PHI</td>\n",
              "    </tr>\n",
              "    <tr>\n",
              "      <th>2</th>\n",
              "      <td>2018090600</td>\n",
              "      <td>168</td>\n",
              "      <td>(13:05) (Shotgun) M.Ryan pass incomplete short...</td>\n",
              "      <td>1</td>\n",
              "      <td>2</td>\n",
              "      <td>10</td>\n",
              "      <td>ATL</td>\n",
              "      <td>play_type_pass</td>\n",
              "      <td>PHI</td>\n",
              "      <td>39</td>\n",
              "      <td>SHOTGUN</td>\n",
              "      <td>2 RB, 1 TE, 2 WR</td>\n",
              "      <td>6.0</td>\n",
              "      <td>4.0</td>\n",
              "      <td>4 DL, 2 LB, 5 DB</td>\n",
              "      <td>TRADITIONAL</td>\n",
              "      <td>0.0</td>\n",
              "      <td>0.0</td>\n",
              "      <td>13:05:00</td>\n",
              "      <td>49.0</td>\n",
              "      <td>NaN</td>\n",
              "      <td>NaN</td>\n",
              "      <td>I</td>\n",
              "      <td>0</td>\n",
              "      <td>0</td>\n",
              "      <td>-0.702779</td>\n",
              "      <td>False</td>\n",
              "      <td>cover 3</td>\n",
              "      <td>No</td>\n",
              "      <td>NaN</td>\n",
              "      <td>SLANT:SLANT|MID|GO</td>\n",
              "      <td>ATL</td>\n",
              "      <td>PHI</td>\n",
              "    </tr>\n",
              "    <tr>\n",
              "      <th>3</th>\n",
              "      <td>2018090600</td>\n",
              "      <td>190</td>\n",
              "      <td>(13:01) (Shotgun) M.Ryan pass deep left to J.J...</td>\n",
              "      <td>1</td>\n",
              "      <td>3</td>\n",
              "      <td>10</td>\n",
              "      <td>ATL</td>\n",
              "      <td>play_type_pass</td>\n",
              "      <td>PHI</td>\n",
              "      <td>39</td>\n",
              "      <td>SHOTGUN</td>\n",
              "      <td>1 RB, 1 TE, 3 WR</td>\n",
              "      <td>6.0</td>\n",
              "      <td>5.0</td>\n",
              "      <td>4 DL, 1 LB, 6 DB</td>\n",
              "      <td>SCRAMBLE_ROLLOUT_LEFT</td>\n",
              "      <td>0.0</td>\n",
              "      <td>0.0</td>\n",
              "      <td>13:01:00</td>\n",
              "      <td>49.0</td>\n",
              "      <td>NaN</td>\n",
              "      <td>NaN</td>\n",
              "      <td>C</td>\n",
              "      <td>33</td>\n",
              "      <td>33</td>\n",
              "      <td>3.047530</td>\n",
              "      <td>False</td>\n",
              "      <td>cover 3</td>\n",
              "      <td>Yes</td>\n",
              "      <td>Left</td>\n",
              "      <td>HITCH:IN:CORNER|MID|</td>\n",
              "      <td>ATL</td>\n",
              "      <td>PHI</td>\n",
              "    </tr>\n",
              "    <tr>\n",
              "      <th>4</th>\n",
              "      <td>2018090600</td>\n",
              "      <td>256</td>\n",
              "      <td>(10:59) (Shotgun) M.Ryan pass incomplete short...</td>\n",
              "      <td>1</td>\n",
              "      <td>3</td>\n",
              "      <td>1</td>\n",
              "      <td>ATL</td>\n",
              "      <td>play_type_pass</td>\n",
              "      <td>PHI</td>\n",
              "      <td>1</td>\n",
              "      <td>SHOTGUN</td>\n",
              "      <td>2 RB, 3 TE, 0 WR</td>\n",
              "      <td>8.0</td>\n",
              "      <td>6.0</td>\n",
              "      <td>6 DL, 3 LB, 2 DB</td>\n",
              "      <td>TRADITIONAL</td>\n",
              "      <td>0.0</td>\n",
              "      <td>0.0</td>\n",
              "      <td>10:59:00</td>\n",
              "      <td>11.0</td>\n",
              "      <td>NaN</td>\n",
              "      <td>NaN</td>\n",
              "      <td>I</td>\n",
              "      <td>0</td>\n",
              "      <td>0</td>\n",
              "      <td>-0.842272</td>\n",
              "      <td>False</td>\n",
              "      <td>cover 0</td>\n",
              "      <td>No</td>\n",
              "      <td>NaN</td>\n",
              "      <td>GO|MID|GO</td>\n",
              "      <td>ATL</td>\n",
              "      <td>PHI</td>\n",
              "    </tr>\n",
              "  </tbody>\n",
              "</table>\n",
              "</div>"
            ],
            "text/plain": [
              "       gameId  playId  ... offense  defense\n",
              "0  2018090600      75  ...     ATL      PHI\n",
              "1  2018090600     146  ...     ATL      PHI\n",
              "2  2018090600     168  ...     ATL      PHI\n",
              "3  2018090600     190  ...     ATL      PHI\n",
              "4  2018090600     256  ...     ATL      PHI\n",
              "\n",
              "[5 rows x 33 columns]"
            ]
          },
          "metadata": {
            "tags": []
          },
          "execution_count": 3
        }
      ]
    },
    {
      "cell_type": "code",
      "metadata": {
        "id": "kVojGLrBF5cq"
      },
      "source": [
        "split = plays_final['Routes'].str.split('|', n = 3, expand = True)"
      ],
      "execution_count": null,
      "outputs": []
    },
    {
      "cell_type": "code",
      "metadata": {
        "id": "4LPw5vjPGgSj"
      },
      "source": [
        "plays_final['Left Routes'] = split[0]\r\n",
        "plays_final['Right Routes'] = split[2]"
      ],
      "execution_count": null,
      "outputs": []
    },
    {
      "cell_type": "code",
      "metadata": {
        "colab": {
          "base_uri": "https://localhost:8080/",
          "height": 411
        },
        "id": "ZkrcrIa7Ggwi",
        "outputId": "7d72a7c5-24e8-4e0c-d234-4832e7633ac4"
      },
      "source": [
        "plays_final.head()"
      ],
      "execution_count": null,
      "outputs": [
        {
          "output_type": "execute_result",
          "data": {
            "text/html": [
              "<div>\n",
              "<style scoped>\n",
              "    .dataframe tbody tr th:only-of-type {\n",
              "        vertical-align: middle;\n",
              "    }\n",
              "\n",
              "    .dataframe tbody tr th {\n",
              "        vertical-align: top;\n",
              "    }\n",
              "\n",
              "    .dataframe thead th {\n",
              "        text-align: right;\n",
              "    }\n",
              "</style>\n",
              "<table border=\"1\" class=\"dataframe\">\n",
              "  <thead>\n",
              "    <tr style=\"text-align: right;\">\n",
              "      <th></th>\n",
              "      <th>gameId</th>\n",
              "      <th>playId</th>\n",
              "      <th>playDescription</th>\n",
              "      <th>quarter</th>\n",
              "      <th>down</th>\n",
              "      <th>yardsToGo</th>\n",
              "      <th>possessionTeam</th>\n",
              "      <th>playType</th>\n",
              "      <th>yardlineSide</th>\n",
              "      <th>yardlineNumber</th>\n",
              "      <th>offenseFormation</th>\n",
              "      <th>personnelO</th>\n",
              "      <th>defendersInTheBox</th>\n",
              "      <th>numberOfPassRushers</th>\n",
              "      <th>personnelD</th>\n",
              "      <th>typeDropback</th>\n",
              "      <th>preSnapVisitorScore</th>\n",
              "      <th>preSnapHomeScore</th>\n",
              "      <th>gameClock</th>\n",
              "      <th>absoluteYardlineNumber</th>\n",
              "      <th>penaltyCodes</th>\n",
              "      <th>penaltyJerseyNumbers</th>\n",
              "      <th>passResult</th>\n",
              "      <th>offensePlayResult</th>\n",
              "      <th>playResult</th>\n",
              "      <th>epa</th>\n",
              "      <th>isDefensivePI</th>\n",
              "      <th>coverage</th>\n",
              "      <th>Trips</th>\n",
              "      <th>Trips_Side</th>\n",
              "      <th>Routes</th>\n",
              "      <th>offense</th>\n",
              "      <th>defense</th>\n",
              "      <th>Left Routes</th>\n",
              "      <th>Right Routes</th>\n",
              "    </tr>\n",
              "  </thead>\n",
              "  <tbody>\n",
              "    <tr>\n",
              "      <th>0</th>\n",
              "      <td>2018090600</td>\n",
              "      <td>75</td>\n",
              "      <td>(15:00) M.Ryan pass short right to J.Jones pus...</td>\n",
              "      <td>1</td>\n",
              "      <td>1</td>\n",
              "      <td>15</td>\n",
              "      <td>ATL</td>\n",
              "      <td>play_type_pass</td>\n",
              "      <td>ATL</td>\n",
              "      <td>20</td>\n",
              "      <td>I_FORM</td>\n",
              "      <td>2 RB, 1 TE, 2 WR</td>\n",
              "      <td>7.0</td>\n",
              "      <td>4.0</td>\n",
              "      <td>4 DL, 2 LB, 5 DB</td>\n",
              "      <td>TRADITIONAL</td>\n",
              "      <td>0.0</td>\n",
              "      <td>0.0</td>\n",
              "      <td>15:00:00</td>\n",
              "      <td>90.0</td>\n",
              "      <td>NaN</td>\n",
              "      <td>NaN</td>\n",
              "      <td>C</td>\n",
              "      <td>10</td>\n",
              "      <td>10</td>\n",
              "      <td>0.261827</td>\n",
              "      <td>False</td>\n",
              "      <td>cover 3</td>\n",
              "      <td>No</td>\n",
              "      <td>NaN</td>\n",
              "      <td>OUT|MID|HITCH:HITCH</td>\n",
              "      <td>ATL</td>\n",
              "      <td>PHI</td>\n",
              "      <td>OUT</td>\n",
              "      <td>HITCH:HITCH</td>\n",
              "    </tr>\n",
              "    <tr>\n",
              "      <th>1</th>\n",
              "      <td>2018090600</td>\n",
              "      <td>146</td>\n",
              "      <td>(13:10) M.Ryan pass incomplete short right to ...</td>\n",
              "      <td>1</td>\n",
              "      <td>1</td>\n",
              "      <td>10</td>\n",
              "      <td>ATL</td>\n",
              "      <td>play_type_pass</td>\n",
              "      <td>PHI</td>\n",
              "      <td>39</td>\n",
              "      <td>SINGLEBACK</td>\n",
              "      <td>1 RB, 1 TE, 3 WR</td>\n",
              "      <td>7.0</td>\n",
              "      <td>4.0</td>\n",
              "      <td>4 DL, 2 LB, 5 DB</td>\n",
              "      <td>TRADITIONAL</td>\n",
              "      <td>0.0</td>\n",
              "      <td>0.0</td>\n",
              "      <td>13:10:00</td>\n",
              "      <td>49.0</td>\n",
              "      <td>NaN</td>\n",
              "      <td>NaN</td>\n",
              "      <td>I</td>\n",
              "      <td>0</td>\n",
              "      <td>0</td>\n",
              "      <td>-0.372360</td>\n",
              "      <td>False</td>\n",
              "      <td>cover 3</td>\n",
              "      <td>No</td>\n",
              "      <td>NaN</td>\n",
              "      <td>HITCH:CROSS|MID|FLAT:HITCH</td>\n",
              "      <td>ATL</td>\n",
              "      <td>PHI</td>\n",
              "      <td>HITCH:CROSS</td>\n",
              "      <td>FLAT:HITCH</td>\n",
              "    </tr>\n",
              "    <tr>\n",
              "      <th>2</th>\n",
              "      <td>2018090600</td>\n",
              "      <td>168</td>\n",
              "      <td>(13:05) (Shotgun) M.Ryan pass incomplete short...</td>\n",
              "      <td>1</td>\n",
              "      <td>2</td>\n",
              "      <td>10</td>\n",
              "      <td>ATL</td>\n",
              "      <td>play_type_pass</td>\n",
              "      <td>PHI</td>\n",
              "      <td>39</td>\n",
              "      <td>SHOTGUN</td>\n",
              "      <td>2 RB, 1 TE, 2 WR</td>\n",
              "      <td>6.0</td>\n",
              "      <td>4.0</td>\n",
              "      <td>4 DL, 2 LB, 5 DB</td>\n",
              "      <td>TRADITIONAL</td>\n",
              "      <td>0.0</td>\n",
              "      <td>0.0</td>\n",
              "      <td>13:05:00</td>\n",
              "      <td>49.0</td>\n",
              "      <td>NaN</td>\n",
              "      <td>NaN</td>\n",
              "      <td>I</td>\n",
              "      <td>0</td>\n",
              "      <td>0</td>\n",
              "      <td>-0.702779</td>\n",
              "      <td>False</td>\n",
              "      <td>cover 3</td>\n",
              "      <td>No</td>\n",
              "      <td>NaN</td>\n",
              "      <td>SLANT:SLANT|MID|GO</td>\n",
              "      <td>ATL</td>\n",
              "      <td>PHI</td>\n",
              "      <td>SLANT:SLANT</td>\n",
              "      <td>GO</td>\n",
              "    </tr>\n",
              "    <tr>\n",
              "      <th>3</th>\n",
              "      <td>2018090600</td>\n",
              "      <td>190</td>\n",
              "      <td>(13:01) (Shotgun) M.Ryan pass deep left to J.J...</td>\n",
              "      <td>1</td>\n",
              "      <td>3</td>\n",
              "      <td>10</td>\n",
              "      <td>ATL</td>\n",
              "      <td>play_type_pass</td>\n",
              "      <td>PHI</td>\n",
              "      <td>39</td>\n",
              "      <td>SHOTGUN</td>\n",
              "      <td>1 RB, 1 TE, 3 WR</td>\n",
              "      <td>6.0</td>\n",
              "      <td>5.0</td>\n",
              "      <td>4 DL, 1 LB, 6 DB</td>\n",
              "      <td>SCRAMBLE_ROLLOUT_LEFT</td>\n",
              "      <td>0.0</td>\n",
              "      <td>0.0</td>\n",
              "      <td>13:01:00</td>\n",
              "      <td>49.0</td>\n",
              "      <td>NaN</td>\n",
              "      <td>NaN</td>\n",
              "      <td>C</td>\n",
              "      <td>33</td>\n",
              "      <td>33</td>\n",
              "      <td>3.047530</td>\n",
              "      <td>False</td>\n",
              "      <td>cover 3</td>\n",
              "      <td>Yes</td>\n",
              "      <td>Left</td>\n",
              "      <td>HITCH:IN:CORNER|MID|</td>\n",
              "      <td>ATL</td>\n",
              "      <td>PHI</td>\n",
              "      <td>HITCH:IN:CORNER</td>\n",
              "      <td></td>\n",
              "    </tr>\n",
              "    <tr>\n",
              "      <th>4</th>\n",
              "      <td>2018090600</td>\n",
              "      <td>256</td>\n",
              "      <td>(10:59) (Shotgun) M.Ryan pass incomplete short...</td>\n",
              "      <td>1</td>\n",
              "      <td>3</td>\n",
              "      <td>1</td>\n",
              "      <td>ATL</td>\n",
              "      <td>play_type_pass</td>\n",
              "      <td>PHI</td>\n",
              "      <td>1</td>\n",
              "      <td>SHOTGUN</td>\n",
              "      <td>2 RB, 3 TE, 0 WR</td>\n",
              "      <td>8.0</td>\n",
              "      <td>6.0</td>\n",
              "      <td>6 DL, 3 LB, 2 DB</td>\n",
              "      <td>TRADITIONAL</td>\n",
              "      <td>0.0</td>\n",
              "      <td>0.0</td>\n",
              "      <td>10:59:00</td>\n",
              "      <td>11.0</td>\n",
              "      <td>NaN</td>\n",
              "      <td>NaN</td>\n",
              "      <td>I</td>\n",
              "      <td>0</td>\n",
              "      <td>0</td>\n",
              "      <td>-0.842272</td>\n",
              "      <td>False</td>\n",
              "      <td>cover 0</td>\n",
              "      <td>No</td>\n",
              "      <td>NaN</td>\n",
              "      <td>GO|MID|GO</td>\n",
              "      <td>ATL</td>\n",
              "      <td>PHI</td>\n",
              "      <td>GO</td>\n",
              "      <td>GO</td>\n",
              "    </tr>\n",
              "  </tbody>\n",
              "</table>\n",
              "</div>"
            ],
            "text/plain": [
              "       gameId  playId  ...      Left Routes  Right Routes\n",
              "0  2018090600      75  ...              OUT   HITCH:HITCH\n",
              "1  2018090600     146  ...      HITCH:CROSS    FLAT:HITCH\n",
              "2  2018090600     168  ...      SLANT:SLANT            GO\n",
              "3  2018090600     190  ...  HITCH:IN:CORNER              \n",
              "4  2018090600     256  ...               GO            GO\n",
              "\n",
              "[5 rows x 35 columns]"
            ]
          },
          "metadata": {
            "tags": []
          },
          "execution_count": 6
        }
      ]
    },
    {
      "cell_type": "code",
      "metadata": {
        "id": "rWGqxN94HHoq"
      },
      "source": [
        "plays_grouped = plays_final.groupby(['Routes'])['playResult'].median()"
      ],
      "execution_count": null,
      "outputs": []
    },
    {
      "cell_type": "code",
      "metadata": {
        "colab": {
          "base_uri": "https://localhost:8080/"
        },
        "id": "elz4TLPiHOun",
        "outputId": "2513933e-a353-4b63-b411-7aac125df76a"
      },
      "source": [
        "#plays_grouped.filter(lambda x: len(x) > 5).median()\r\n",
        "#plays_grouped['playResult'].sort_values()\r\n",
        "plays_grouped.head()"
      ],
      "execution_count": null,
      "outputs": [
        {
          "output_type": "execute_result",
          "data": {
            "text/plain": [
              "Routes\n",
              "ANGLE|MID|CROSS:HITCH:GO        12.0\n",
              "ANGLE|MID|GO:HITCH              21.0\n",
              "CORNER:ANGLE|MID|CORNER:POST     0.0\n",
              "CORNER:ANGLE|MID|IN:HITCH        0.0\n",
              "CORNER:CORNER:CROSS|MID|POST     8.0\n",
              "Name: playResult, dtype: float64"
            ]
          },
          "metadata": {
            "tags": []
          },
          "execution_count": 8
        }
      ]
    },
    {
      "cell_type": "code",
      "metadata": {
        "id": "2Fl3FFO5LJof"
      },
      "source": [
        "coverage_group = plays_final.groupby(['coverage'])['gameId'].count()"
      ],
      "execution_count": null,
      "outputs": []
    },
    {
      "cell_type": "code",
      "metadata": {
        "colab": {
          "base_uri": "https://localhost:8080/"
        },
        "id": "vf5LlReueqKk",
        "outputId": "1c119e47-66ea-423a-aaae-67b087daa141"
      },
      "source": [
        "coverage_group.head(10)"
      ],
      "execution_count": null,
      "outputs": [
        {
          "output_type": "execute_result",
          "data": {
            "text/plain": [
              "coverage\n",
              "cover 0            1056\n",
              "cover 1 man        1117\n",
              "cover 2              30\n",
              "cover 2 man         135\n",
              "cover 3           15539\n",
              "match coverage     1362\n",
              "Name: gameId, dtype: int64"
            ]
          },
          "metadata": {
            "tags": []
          },
          "execution_count": 10
        }
      ]
    },
    {
      "cell_type": "code",
      "metadata": {
        "colab": {
          "base_uri": "https://localhost:8080/",
          "height": 264
        },
        "id": "haOeazLTesVz",
        "outputId": "2b57f3f0-9aa3-40c9-ed01-9d155adf2746"
      },
      "source": [
        "plt.pie([15539, 1056, 1527, 1117], labels=['Cover 3 \\n 80.8%', 'Cover 0\\n 5.5%', 'Other Coverage\\n7.9%', 'Cover 1 \\n 5.8%'], shadow= True, startangle= 30, labeldistance = 1.1)\r\n",
        "plt.title('Defensive Back Coverage Shells')\r\n",
        "plt.show()"
      ],
      "execution_count": null,
      "outputs": [
        {
          "output_type": "display_data",
          "data": {
            "image/png": "[encoded data removed]",
            "text/plain": [
              "<Figure size 432x288 with 1 Axes>"
            ]
          },
          "metadata": {
            "tags": []
          }
        }
      ]
    },
    {
      "cell_type": "code",
      "metadata": {
        "id": "qeqN9Ek-i0Wx"
      },
      "source": [
        "#'Cover 3 \\n 85.5%', 'Cover 1 \\n 6.1%', 'Cover 2\\n0.9%', 'Other Coverage\\n7.5%'\r\n",
        "#'Cover 3', 'Cover 1', 'Cover 2', 'Other Coverage'"
      ],
      "execution_count": null,
      "outputs": []
    },
    {
      "cell_type": "code",
      "metadata": {
        "id": "ySUWizIwe56K"
      },
      "source": [
        "cover3 = plays_final.loc[(plays_final['coverage'] == 'cover 3')]# & (plays_final['passResult'] == 'C')"
      ],
      "execution_count": null,
      "outputs": []
    },
    {
      "cell_type": "code",
      "metadata": {
        "id": "N3EoBIQRwZBP"
      },
      "source": [
        "three_count = cover3.groupby(['offenseFormation'])['playId'].count().values"
      ],
      "execution_count": null,
      "outputs": []
    },
    {
      "cell_type": "code",
      "metadata": {
        "id": "kqERrezJwhg5"
      },
      "source": [
        "three = cover3.groupby(['offenseFormation'])['playResult'].mean().values\r\n",
        "three_med = cover3.groupby(['offenseFormation'])['playResult'].median().values"
      ],
      "execution_count": null,
      "outputs": []
    },
    {
      "cell_type": "code",
      "metadata": {
        "colab": {
          "base_uri": "https://localhost:8080/"
        },
        "id": "uZeIOyQowmQC",
        "outputId": "b45cd9b7-bc8d-424c-c85c-abdc9ec29c32"
      },
      "source": [
        "cover3.groupby(['offenseFormation'])['playResult'].count()"
      ],
      "execution_count": null,
      "outputs": [
        {
          "output_type": "execute_result",
          "data": {
            "text/plain": [
              "offenseFormation\n",
              "EMPTY          1912\n",
              "I_FORM          771\n",
              "JUMBO            12\n",
              "PISTOL          203\n",
              "SHOTGUN       10144\n",
              "SINGLEBACK     2357\n",
              "WILDCAT          27\n",
              "Name: playResult, dtype: int64"
            ]
          },
          "metadata": {
            "tags": []
          },
          "execution_count": 110
        }
      ]
    },
    {
      "cell_type": "code",
      "metadata": {
        "colab": {
          "base_uri": "https://localhost:8080/"
        },
        "id": "AHH3QHa4xHwh",
        "outputId": "dbc0b8e9-afad-4a7e-ad5b-d774758b59ad"
      },
      "source": [
        "cover3.groupby(['offenseFormation'])['playResult'].count()"
      ],
      "execution_count": null,
      "outputs": [
        {
          "output_type": "execute_result",
          "data": {
            "text/plain": [
              "offenseFormation\n",
              "EMPTY          1912\n",
              "I_FORM          771\n",
              "JUMBO            12\n",
              "PISTOL          203\n",
              "SHOTGUN       10144\n",
              "SINGLEBACK     2357\n",
              "WILDCAT          27\n",
              "Name: playResult, dtype: int64"
            ]
          },
          "metadata": {
            "tags": []
          },
          "execution_count": 16
        }
      ]
    },
    {
      "cell_type": "code",
      "metadata": {
        "id": "0zFGNzOY6eHa"
      },
      "source": [
        "cover1 = plays_final.loc[(plays_final['coverage'] == 'cover 1 man')]"
      ],
      "execution_count": null,
      "outputs": []
    },
    {
      "cell_type": "code",
      "metadata": {
        "id": "MQ759oJe-0qf"
      },
      "source": [
        "one =cover1.groupby(['offenseFormation'])['playResult'].mean().values\r\n",
        "one_med =cover1.groupby(['offenseFormation'])['playResult'].median().values"
      ],
      "execution_count": null,
      "outputs": []
    },
    {
      "cell_type": "code",
      "metadata": {
        "colab": {
          "base_uri": "https://localhost:8080/"
        },
        "id": "3RZFycFPwWLv",
        "outputId": "c4852da5-71e7-4986-f985-e720d0849775"
      },
      "source": [
        "cover1.groupby(['offenseFormation'])['playResult'].count()"
      ],
      "execution_count": null,
      "outputs": [
        {
          "output_type": "execute_result",
          "data": {
            "text/plain": [
              "offenseFormation\n",
              "EMPTY         162\n",
              "I_FORM         41\n",
              "PISTOL         14\n",
              "SHOTGUN       775\n",
              "SINGLEBACK    122\n",
              "WILDCAT         1\n",
              "Name: playResult, dtype: int64"
            ]
          },
          "metadata": {
            "tags": []
          },
          "execution_count": 111
        }
      ]
    },
    {
      "cell_type": "code",
      "metadata": {
        "id": "G51liOl4-1Nw"
      },
      "source": [
        "one_count = cover1.groupby(['offenseFormation'])['playResult'].count().values"
      ],
      "execution_count": null,
      "outputs": []
    },
    {
      "cell_type": "code",
      "metadata": {
        "id": "RhrMhOTp-5gc"
      },
      "source": [
        "cover0 = plays_final.loc[(plays_final['coverage'] == 'cover 0')]"
      ],
      "execution_count": null,
      "outputs": []
    },
    {
      "cell_type": "code",
      "metadata": {
        "id": "saOMZMd1_Lf5"
      },
      "source": [
        "zero = cover0.groupby(['offenseFormation'])['playResult'].mean().values\r\n",
        "zero_med = cover0.groupby(['offenseFormation'])['playResult'].median().values"
      ],
      "execution_count": null,
      "outputs": []
    },
    {
      "cell_type": "code",
      "metadata": {
        "colab": {
          "base_uri": "https://localhost:8080/"
        },
        "id": "u50TxlxmbeTg",
        "outputId": "8c568cae-16df-4dd9-ad0d-f0b0d3fe6217"
      },
      "source": [
        "cover0.groupby(['offenseFormation'])['playResult'].mean()"
      ],
      "execution_count": null,
      "outputs": [
        {
          "output_type": "execute_result",
          "data": {
            "text/plain": [
              "offenseFormation\n",
              "EMPTY         5.222222\n",
              "I_FORM        8.864865\n",
              "JUMBO         0.000000\n",
              "PISTOL        1.357143\n",
              "SHOTGUN       4.405442\n",
              "SINGLEBACK    6.033898\n",
              "WILDCAT       0.000000\n",
              "Name: playResult, dtype: float64"
            ]
          },
          "metadata": {
            "tags": []
          },
          "execution_count": 74
        }
      ]
    },
    {
      "cell_type": "code",
      "metadata": {
        "id": "L6VWLN5y_NI2"
      },
      "source": [
        "zero_count = cover0.groupby(['offenseFormation'])['playResult'].count().values"
      ],
      "execution_count": null,
      "outputs": []
    },
    {
      "cell_type": "code",
      "metadata": {
        "id": "MyzCMAx1_RmU"
      },
      "source": [
        "othercov = plays_final.loc[(plays_final['coverage'] != 'cover 3') & (plays_final['coverage'] != 'cover 0') & (plays_final['coverage'] != 'cover 1 man')]"
      ],
      "execution_count": null,
      "outputs": []
    },
    {
      "cell_type": "code",
      "metadata": {
        "id": "WBhUuNcl_uJ6"
      },
      "source": [
        "other = othercov.groupby(['offenseFormation'])['playResult'].mean().values\r\n",
        "other_med = othercov.groupby(['offenseFormation'])['playResult'].median().values"
      ],
      "execution_count": null,
      "outputs": []
    },
    {
      "cell_type": "code",
      "metadata": {
        "colab": {
          "base_uri": "https://localhost:8080/"
        },
        "id": "FdOEnDLwwxQT",
        "outputId": "76bf5eac-fc45-4e1e-fdef-0bda85695106"
      },
      "source": [
        "othercov.groupby(['offenseFormation'])['playResult'].count()"
      ],
      "execution_count": null,
      "outputs": [
        {
          "output_type": "execute_result",
          "data": {
            "text/plain": [
              "offenseFormation\n",
              "EMPTY         210\n",
              "I_FORM         66\n",
              "JUMBO          34\n",
              "PISTOL         20\n",
              "SHOTGUN       973\n",
              "SINGLEBACK    193\n",
              "WILDCAT         6\n",
              "Name: playResult, dtype: int64"
            ]
          },
          "metadata": {
            "tags": []
          },
          "execution_count": 112
        }
      ]
    },
    {
      "cell_type": "code",
      "metadata": {
        "id": "nlrFQDL0_yUA"
      },
      "source": [
        "other_count = othercov.groupby(['offenseFormation'])['playResult'].count().values"
      ],
      "execution_count": null,
      "outputs": []
    },
    {
      "cell_type": "code",
      "metadata": {
        "colab": {
          "base_uri": "https://localhost:8080/",
          "height": 656
        },
        "id": "a43SvYwA_1F8",
        "outputId": "f27d48f7-089f-4908-c7ee-c4500b1987a9"
      },
      "source": [
        "Empty = [zero[0], one[0], three[0], other[0]]\r\n",
        "I_form = [zero[1], one[1], three[1], other[1]]\r\n",
        "#Jumbo = [zero[2], one[2], three[2], other[2]]\r\n",
        "#Pistol = [zero[3], one[3], three[3], other[3]]\r\n",
        "Shotgun = [zero[4], one[4], three[4], other[4]]\r\n",
        "Singleback = [zero[5], one[4], three[5], other[5]]\r\n",
        "#x_locs = np.arange(4)\r\n",
        "x_locs= np.array([1, 5, 9, 13])\r\n",
        "fig = plt.figure(figsize = (12, 10))\r\n",
        "ax = fig.add_subplot(111)\r\n",
        "width = .8\r\n",
        "bar1 = ax.bar(x_locs, Empty, width, color = '#a40000', label = 'Empty Formation')\r\n",
        "for pos in bar1:\r\n",
        "  ax.text(pos.get_x() + .4, pos.get_height(), '{:.2f}'.format(pos.get_height()), ha='center', va ='bottom', fontsize = 12)\r\n",
        "bar2 = ax.bar(x_locs + width, I_form, width, color = '#161ac4', label= 'I Formation')\r\n",
        "for pos in bar2:\r\n",
        "  ax.text(pos.get_x() + .4, pos.get_height(), '{:.2f}'.format(pos.get_height()), ha='center', va ='bottom', fontsize = 12)\r\n",
        "#bar3 = ax.bar(x_locs + width *2, Jumbo, width, color = 'b')\r\n",
        "#bar4 = ax.bar(x_locs + width *3, Pistol, width, color = '#b76c00')\r\n",
        "bar3 = ax.bar(x_locs + width *2, Shotgun, width, color = '#e29e28', label = 'Shotgun Formation')\r\n",
        "for pos in bar3:\r\n",
        "  ax.text(pos.get_x() + .4, pos.get_height(), '{:.2f}'.format(pos.get_height()), ha='center', va ='bottom', fontsize = 12)\r\n",
        "bar4 = ax.bar(x_locs + width *3, Singleback, width, color = '#16582f', label = 'Singleback Formation')\r\n",
        "for pos in bar4:\r\n",
        "  ax.text(pos.get_x() + .4, pos.get_height(), '{:.2f}'.format(pos.get_height()), ha='center', va ='bottom', fontsize = 12)\r\n",
        "ax.legend()\r\n",
        "plt.title('Average Yardage by Formation and Defensive Coverage Type', fontsize = 20)\r\n",
        "plt.ylabel('Yards', fontsize = 20)\r\n",
        "plt.xlabel('Coverage Type', fontsize = 20)\r\n",
        "plt.xticks([2.2, 6.2, 10.2, 14.2], ['Cover 0', 'Cover 1', 'Cover 3', 'Other Coverage'], fontsize = 14)\r\n",
        "plt.yticks([x for x in range(11)], fontsize = 14)\r\n",
        "plt.plot"
      ],
      "execution_count": null,
      "outputs": [
        {
          "output_type": "execute_result",
          "data": {
            "text/plain": [
              "<function matplotlib.pyplot.plot>"
            ]
          },
          "metadata": {
            "tags": []
          },
          "execution_count": 127
        },
        {
          "output_type": "display_data",
          "data": {
            "image/png": "[encoded data removed]",
            "text/plain": [
              "<Figure size 864x720 with 1 Axes>"
            ]
          },
          "metadata": {
            "tags": [],
            "needs_background": "light"
          }
        }
      ]
    },
    {
      "cell_type": "code",
      "metadata": {
        "id": "boMhNodZc-01",
        "colab": {
          "base_uri": "https://localhost:8080/",
          "height": 656
        },
        "outputId": "7390046d-78e8-4297-eb6f-6cb339d497b9"
      },
      "source": [
        "Empty = [zero_count[0], one_count[0], three_count[0], other_count[0]]\r\n",
        "I_form = [zero_count[1], one_count[1], three_count[1], other_count[1]]\r\n",
        "#Jumbo = [zero[2], one[2], three[2], other[2]]\r\n",
        "#Pistol = [zero[3], one[3], three[3], other[3]]\r\n",
        "Shotgun = [zero_count[4], one_count[4], three_count[4], other_count[4]]   \r\n",
        "Singleback = [zero_count[5], one_count[4], three_count[5], other_count[5]]\r\n",
        "#x_locs = np.arange(4)\r\n",
        "x_locs= np.array([1, 5, 9, 13])\r\n",
        "fig = plt.figure(figsize = (12, 10))\r\n",
        "ax = fig.add_subplot(111)\r\n",
        "width = .8\r\n",
        "bar1 = ax.bar(x_locs, Empty, width, color = '#a40000', label = 'Empty Formation')\r\n",
        "for pos in bar1:\r\n",
        "  ax.text(pos.get_x() + .4, pos.get_height(), '{:}'.format(pos.get_height()), ha='center', va ='bottom', fontsize = 12)\r\n",
        "bar2 = ax.bar(x_locs + width, I_form, width, color = '#161ac4', label= 'I Formation')\r\n",
        "for pos in bar2:\r\n",
        "  ax.text(pos.get_x() + .4, pos.get_height(), '{:}'.format(pos.get_height()), ha='center', va ='bottom', fontsize = 12)\r\n",
        "#bar3 = ax.bar(x_locs + width *2, Jumbo, width, color = 'b')\r\n",
        "#bar4 = ax.bar(x_locs + width *3, Pistol, width, color = '#b76c00')\r\n",
        "bar3 = ax.bar(x_locs + width *2, Shotgun, width, color = '#e29e28', label = 'Shotgun Formation')\r\n",
        "for pos in bar3:\r\n",
        "  ax.text(pos.get_x() + .4, pos.get_height(), '{:}'.format(pos.get_height()), ha='center', va ='bottom', fontsize = 12)\r\n",
        "bar4 = ax.bar(x_locs + width *3, Singleback, width, color = '#16582f', label = 'Singleback Formation')\r\n",
        "for pos in bar4:\r\n",
        "  ax.text(pos.get_x() + .4, pos.get_height(), '{:}'.format(pos.get_height()), ha='center', va ='bottom', fontsize = 12)\r\n",
        "ax.legend()\r\n",
        "plt.title('Number of Times a Formation is Used Against Different Coverage Types', fontsize = 20)\r\n",
        "plt.ylabel('Times Used (Logarithmic Scale)', fontsize = 20)\r\n",
        "plt.xlabel('Coverage Type', fontsize = 20)\r\n",
        "plt.xticks([2.2, 6.2, 10.2, 14.2], ['Cover 0', 'Cover 1', 'Cover 3', 'Other Coverage'], fontsize = 14)\r\n",
        "plt.yticks([x for x in range(11)], fontsize = 14)\r\n",
        "plt.yscale('log')\r\n",
        "plt.plot"
      ],
      "execution_count": null,
      "outputs": [
        {
          "output_type": "execute_result",
          "data": {
            "text/plain": [
              "<function matplotlib.pyplot.plot>"
            ]
          },
          "metadata": {
            "tags": []
          },
          "execution_count": 264
        },
        {
          "output_type": "display_data",
          "data": {
            "image/png": "[encoded data removed]",
            "text/plain": [
              "<Figure size 864x720 with 1 Axes>"
            ]
          },
          "metadata": {
            "tags": [],
            "needs_background": "light"
          }
        }
      ]
    },
    {
      "cell_type": "code",
      "metadata": {
        "id": "OVHqbrPsU_BX"
      },
      "source": [
        "def team_scouter():\r\n",
        "  limit = True\r\n",
        "  while limit: \r\n",
        "    team = input(\"Enter a Team's abreviation to scout, e.g. PHI for the Eagles\")\r\n",
        "    if team in plays_final['defense'].unique():\r\n",
        "      limit = False\r\n",
        "  cover3 = plays_final.loc[(plays_final['coverage'] == 'cover 3') & (plays_final['defense'] == team)]\r\n",
        "  cover1 = plays_final.loc[(plays_final['coverage'] == 'cover 1 man') & (plays_final['defense'] == team)]\r\n",
        "  cover0 = plays_final.loc[(plays_final['coverage'] == 'cover 0')  & (plays_final['defense'] == team)]\r\n",
        "  othercov = plays_final.loc[(plays_final['coverage'] != 'cover 3') & (plays_final['coverage'] != 'cover 0') & (plays_final['coverage'] != 'cover 1 man') & (plays_final['defense'] == team)]\r\n",
        "  #Get counts of each formation for the team entered\r\n",
        "  cover0_empty = plays_final.loc[(plays_final['coverage'] == 'cover 0') & (plays_final['defense'] == team) & (plays_final['offenseFormation'] == 'EMPTY')]['playResult'].mean()\r\n",
        "  cover1_empty = plays_final.loc[(plays_final['coverage'] == 'cover 1 man') & (plays_final['defense'] == team) & (plays_final['offenseFormation'] == 'EMPTY')]['playResult'].mean()\r\n",
        "  cover3_empty = plays_final.loc[(plays_final['coverage'] == 'cover 3') & (plays_final['defense'] == team) & (plays_final['offenseFormation'] == 'EMPTY')]['playResult'].mean()\r\n",
        "  other_empty = plays_final.loc[(plays_final['coverage'] != 'cover 3') & (plays_final['coverage'] != 'cover 0') & (plays_final['coverage'] != 'cover 1 man') & (plays_final['defense'] == team) & (plays_final['defense'] == team) & (plays_final['offenseFormation'] == 'EMPTY')]['playResult'].mean()\r\n",
        "  #IFORM\r\n",
        "  cover0_iform = plays_final.loc[(plays_final['coverage'] == 'cover 0') & (plays_final['defense'] == team) & (plays_final['offenseFormation'] == 'I_FORM')]['playResult'].mean()\r\n",
        "  cover1_iform = plays_final.loc[(plays_final['coverage'] == 'cover 1 man') & (plays_final['defense'] == team) & (plays_final['offenseFormation'] == 'I_FORM')]['playResult'].mean()\r\n",
        "  cover3_iform = plays_final.loc[(plays_final['coverage'] == 'cover 3') & (plays_final['defense'] == team) & (plays_final['offenseFormation'] == 'I_FORM')]['playResult'].mean()\r\n",
        "  other_iform = plays_final.loc[(plays_final['coverage'] != 'cover 3') & (plays_final['coverage'] != 'cover 0') & (plays_final['coverage'] != 'cover 1 man') & (plays_final['defense'] == team) & (plays_final['defense'] == team) & (plays_final['offenseFormation'] == 'I_FORM')]['playResult'].mean()\r\n",
        "  #Shotgun\r\n",
        "  cover0_shot = plays_final.loc[(plays_final['coverage'] == 'cover 0') & (plays_final['defense'] == team) & (plays_final['offenseFormation'] == 'SHOTGUN')]['playResult'].mean()\r\n",
        "  cover1_shot = plays_final.loc[(plays_final['coverage'] == 'cover 1 man') & (plays_final['defense'] == team) & (plays_final['offenseFormation'] == 'SHOTGUN')]['playResult'].mean()\r\n",
        "  cover3_shot = plays_final.loc[(plays_final['coverage'] == 'cover 3') & (plays_final['defense'] == team) & (plays_final['offenseFormation'] == 'SHOTGUN')]['playResult'].mean()\r\n",
        "  other_shot = plays_final.loc[(plays_final['coverage'] != 'cover 3') & (plays_final['coverage'] != 'cover 0') & (plays_final['coverage'] != 'cover 1 man') & (plays_final['defense'] == team) & (plays_final['defense'] == team) & (plays_final['offenseFormation'] == 'SHOTGUN')]['playResult'].mean()\r\n",
        "  #Singleback\r\n",
        "  cover0_single = plays_final.loc[(plays_final['coverage'] == 'cover 0') & (plays_final['defense'] == team) & (plays_final['offenseFormation'] == 'SINGLEBACK')]['playResult'].mean()\r\n",
        "  cover1_single = plays_final.loc[(plays_final['coverage'] == 'cover 1 man') & (plays_final['defense'] == team) & (plays_final['offenseFormation'] == 'SINGLEBACK')]['playResult'].mean()\r\n",
        "  cover3_single = plays_final.loc[(plays_final['coverage'] == 'cover 3') & (plays_final['defense'] == team) & (plays_final['offenseFormation'] == 'SINGLEBACK')]['playResult'].mean()\r\n",
        "  other_single = plays_final.loc[(plays_final['coverage'] != 'cover 3') & (plays_final['coverage'] != 'cover 0') & (plays_final['coverage'] != 'cover 1 man') & (plays_final['defense'] == team) & (plays_final['defense'] == team) & (plays_final['offenseFormation'] == 'SINGLEBACK')]['playResult'].mean()\r\n",
        "  #Get the average yardage for each coverage type for the team entered\r\n",
        "\r\n",
        "\r\n",
        "  #Plot average yardage\r\n",
        "  Empty = [cover0_empty, cover1_empty, cover3_empty, other_empty]\r\n",
        "  I_form = [cover0_iform, cover1_iform, cover3_iform, other_iform]\r\n",
        "  Shotgun = [cover0_shot, cover1_shot, cover3_shot, other_shot]\r\n",
        "  Singleback = [cover0_single, cover1_single, cover3_single, other_single]\r\n",
        "  for x in [Empty, I_form, Shotgun, Singleback]:\r\n",
        "    for num, y in enumerate(x):\r\n",
        "      if y is np.nan:\r\n",
        "        x[num] = 0\r\n",
        "  #x_locs = np.arange(4)\r\n",
        "  x_locs= np.array([1, 5, 9, 13])\r\n",
        "  fig = plt.figure(figsize = (12, 10))\r\n",
        "  ax = fig.add_subplot(111)\r\n",
        "  width = .8\r\n",
        "  bar1 = ax.bar(x_locs, Empty, width, color = '#a40000', label = 'Empty Formation')\r\n",
        "  for pos in bar1:\r\n",
        "    if pos.get_height() < 0:\r\n",
        "      ax.text(pos.get_x() + .4, pos.get_height() *1.1, '{:.2f}'.format(pos.get_height()), ha='center', va ='bottom', fontsize = 12)\r\n",
        "    else:\r\n",
        "      ax.text(pos.get_x() + .4, pos.get_height(), '{:.2f}'.format(pos.get_height()), ha='center', va ='bottom', fontsize = 12)\r\n",
        "  bar2 = ax.bar(x_locs + width, I_form, width, color = '#161ac4', label= 'I Formation')\r\n",
        "  for pos in bar2:\r\n",
        "    if pos.get_height() < 0:\r\n",
        "      ax.text(pos.get_x() + .4, pos.get_height() *1.1, '{:.2f}'.format(pos.get_height()), ha='center', va ='bottom', fontsize = 12)\r\n",
        "    else:\r\n",
        "      ax.text(pos.get_x() + .4, pos.get_height(), '{:.2f}'.format(pos.get_height()), ha='center', va ='bottom', fontsize = 12)\r\n",
        "  #bar3 = ax.bar(x_locs + width *2, Jumbo, width, color = 'b')\r\n",
        "  #bar4 = ax.bar(x_locs + width *3, Pistol, width, color = '#b76c00')\r\n",
        "  bar3 = ax.bar(x_locs + width *2, Shotgun, width, color = '#e29e28', label = 'Shotgun Formation')\r\n",
        "  for pos in bar3:\r\n",
        "    if pos.get_height() < 0:\r\n",
        "      ax.text(pos.get_x() + .4, pos.get_height() *1.1, '{:.2f}'.format(pos.get_height()), ha='center', va ='bottom', fontsize = 12)\r\n",
        "    else:\r\n",
        "      ax.text(pos.get_x() + .4, pos.get_height(), '{:.2f}'.format(pos.get_height()), ha='center', va ='bottom', fontsize = 12)\r\n",
        "  bar4 = ax.bar(x_locs + width *3, Singleback, width, color = '#16582f', label = 'Singleback Formation')\r\n",
        "  for pos in bar4:\r\n",
        "    if pos.get_height() < 0:\r\n",
        "      ax.text(pos.get_x() + .4, pos.get_height() *1.1, '{:.2f}'.format(pos.get_height()), ha='center', va ='bottom', fontsize = 12)\r\n",
        "    else:\r\n",
        "      ax.text(pos.get_x() + .4, pos.get_height(), '{:.2f}'.format(pos.get_height()), ha='center', va ='bottom', fontsize = 12)\r\n",
        "  ax.legend()\r\n",
        "  plt.title('Average Yardage Allowed by {}, by Coverage and Formation'.format(team), fontsize = 20)\r\n",
        "  plt.ylabel('Yards', fontsize = 20)\r\n",
        "  plt.xlabel('Coverage Type', fontsize = 20)\r\n",
        "  plt.xticks([2.2, 6.2, 10.2, 14.2], ['Cover 0', 'Cover 1', 'Cover 3', 'Other Coverage'], fontsize = 14)\r\n",
        "  #plt.yticks([x for x in range(11)], fontsize = 14)\r\n",
        "  plt.plot\r\n",
        "\r\n",
        "  ####\r\n",
        "  cover0_empty = plays_final.loc[(plays_final['coverage'] == 'cover 0') & (plays_final['defense'] == team) & (plays_final['offenseFormation'] == 'EMPTY')]['playResult'].count()\r\n",
        "  cover1_empty = plays_final.loc[(plays_final['coverage'] == 'cover 1 man') & (plays_final['defense'] == team) & (plays_final['offenseFormation'] == 'EMPTY')]['playResult'].count()\r\n",
        "  cover3_empty = plays_final.loc[(plays_final['coverage'] == 'cover 3') & (plays_final['defense'] == team) & (plays_final['offenseFormation'] == 'EMPTY')]['playResult'].count()\r\n",
        "  other_empty = plays_final.loc[(plays_final['coverage'] != 'cover 3') & (plays_final['coverage'] != 'cover 0') & (plays_final['coverage'] != 'cover 1 man') & (plays_final['defense'] == team) & (plays_final['defense'] == team) & (plays_final['offenseFormation'] == 'EMPTY')]['playResult'].count()\r\n",
        "  #IFORM\r\n",
        "  cover0_iform = plays_final.loc[(plays_final['coverage'] == 'cover 0') & (plays_final['defense'] == team) & (plays_final['offenseFormation'] == 'I_FORM')]['playResult'].count()\r\n",
        "  cover1_iform = plays_final.loc[(plays_final['coverage'] == 'cover 1 man') & (plays_final['defense'] == team) & (plays_final['offenseFormation'] == 'I_FORM')]['playResult'].count()\r\n",
        "  cover3_iform = plays_final.loc[(plays_final['coverage'] == 'cover 3') & (plays_final['defense'] == team) & (plays_final['offenseFormation'] == 'I_FORM')]['playResult'].count()\r\n",
        "  other_iform = plays_final.loc[(plays_final['coverage'] != 'cover 3') & (plays_final['coverage'] != 'cover 0') & (plays_final['coverage'] != 'cover 1 man') & (plays_final['defense'] == team) & (plays_final['defense'] == team) & (plays_final['offenseFormation'] == 'I_FORM')]['playResult'].count()\r\n",
        "  #Shotgun\r\n",
        "  cover0_shot = plays_final.loc[(plays_final['coverage'] == 'cover 0') & (plays_final['defense'] == team) & (plays_final['offenseFormation'] == 'SHOTGUN')]['playResult'].count()\r\n",
        "  cover1_shot = plays_final.loc[(plays_final['coverage'] == 'cover 1 man') & (plays_final['defense'] == team) & (plays_final['offenseFormation'] == 'SHOTGUN')]['playResult'].count()\r\n",
        "  cover3_shot = plays_final.loc[(plays_final['coverage'] == 'cover 3') & (plays_final['defense'] == team) & (plays_final['offenseFormation'] == 'SHOTGUN')]['playResult'].count()\r\n",
        "  other_shot = plays_final.loc[(plays_final['coverage'] != 'cover 3') & (plays_final['coverage'] != 'cover 0') & (plays_final['coverage'] != 'cover 1 man') & (plays_final['defense'] == team) & (plays_final['defense'] == team) & (plays_final['offenseFormation'] == 'SHOTGUN')]['playResult'].count()\r\n",
        "  #Singleback\r\n",
        "  cover0_single = plays_final.loc[(plays_final['coverage'] == 'cover 0') & (plays_final['defense'] == team) & (plays_final['offenseFormation'] == 'SINGLEBACK')]['playResult'].count()\r\n",
        "  cover1_single = plays_final.loc[(plays_final['coverage'] == 'cover 1 man') & (plays_final['defense'] == team) & (plays_final['offenseFormation'] == 'SINGLEBACK')]['playResult'].count()\r\n",
        "  cover3_single = plays_final.loc[(plays_final['coverage'] == 'cover 3') & (plays_final['defense'] == team) & (plays_final['offenseFormation'] == 'SINGLEBACK')]['playResult'].count()\r\n",
        "  other_single = plays_final.loc[(plays_final['coverage'] != 'cover 3') & (plays_final['coverage'] != 'cover 0') & (plays_final['coverage'] != 'cover 1 man') & (plays_final['defense'] == team) & (plays_final['defense'] == team) & (plays_final['offenseFormation'] == 'SINGLEBACK')]['playResult'].count()\r\n",
        "\r\n",
        "\r\n",
        "\r\n",
        "  Empty = [cover0_empty, cover1_empty, cover3_empty, other_empty]\r\n",
        "  I_form = [cover0_iform, cover1_iform, cover3_iform, other_iform]\r\n",
        "  Shotgun = [cover0_shot, cover1_shot, cover3_shot, other_shot]\r\n",
        "  Singleback = [cover0_single, cover1_single, cover3_single, other_single]\r\n",
        "  #x_locs = np.arange(4)\r\n",
        "  x_locs= np.array([1, 5, 9, 13])\r\n",
        "  fig = plt.figure(figsize = (12, 10))\r\n",
        "  ax = fig.add_subplot(111)\r\n",
        "  width = .8\r\n",
        "  bar1 = ax.bar(x_locs, Empty, width, color = '#a40000', label = 'Empty Formation')\r\n",
        "  for pos in bar1:\r\n",
        "    ax.text(pos.get_x() + .4, pos.get_height(), '{:}'.format(pos.get_height()), ha='center', va ='bottom', fontsize = 12)\r\n",
        "  bar2 = ax.bar(x_locs + width, I_form, width, color = '#161ac4', label= 'I Formation')\r\n",
        "  for pos in bar2:\r\n",
        "    ax.text(pos.get_x() + .4, pos.get_height(), '{:}'.format(pos.get_height()), ha='center', va ='bottom', fontsize = 12)\r\n",
        "    ax.text(pos.get_x() + .4, pos.get_height(), '{:}'.format(pos.get_height()), ha='center', va ='bottom', fontsize = 12)\r\n",
        "  #bar3 = ax.bar(x_locs + width *2, Jumbo, width, color = 'b')\r\n",
        "  #bar4 = ax.bar(x_locs + width *3, Pistol, width, color = '#b76c00')\r\n",
        "  bar3 = ax.bar(x_locs + width *2, Shotgun, width, color = '#e29e28', label = 'Shotgun Formation')\r\n",
        "  for pos in bar3:\r\n",
        "    ax.text(pos.get_x() + .4, pos.get_height(), '{:}'.format(pos.get_height()), ha='center', va ='bottom', fontsize = 12)\r\n",
        "  bar4 = ax.bar(x_locs + width *3, Singleback, width, color = '#16582f', label = 'Singleback Formation')\r\n",
        "  for pos in bar4:\r\n",
        "    ax.text(pos.get_x() + .4, pos.get_height(), '{:}'.format(pos.get_height()), ha='center', va ='bottom', fontsize = 12)\r\n",
        "  ax.legend()\r\n",
        "  plt.title('Formations Used Against {}, by Coverage Type'.format(team), fontsize = 20)\r\n",
        "  plt.ylabel('Times Used (Logarithmic Scale)', fontsize = 20)\r\n",
        "  plt.xlabel('Coverage Type', fontsize = 20)\r\n",
        "  plt.xticks([2.2, 6.2, 10.2, 14.2], ['Cover 0', 'Cover 1', 'Cover 3', 'Other Coverage'], fontsize = 14)\r\n",
        "  #plt.yticks([x for x in range(11)], fontsize = 14)\r\n",
        "  plt.yscale('symlog')\r\n",
        "  plt.yticks([0, 10, 100, 1000])\r\n",
        "  plt.plot"
      ],
      "execution_count": null,
      "outputs": []
    },
    {
      "cell_type": "code",
      "metadata": {
        "colab": {
          "base_uri": "https://localhost:8080/",
          "height": 1000
        },
        "id": "Y-SlUSa5awwl",
        "outputId": "f38f3759-ed65-4ee4-992f-049cbf3a8663"
      },
      "source": [
        "team_scouter()"
      ],
      "execution_count": null,
      "outputs": [
        {
          "output_type": "stream",
          "text": [
            "Enter a Team's abreviation to scout, e.g. PHI for the EaglesATL\n"
          ],
          "name": "stdout"
        },
        {
          "output_type": "display_data",
          "data": {
            "image/png": "[encoded data removed]",
            "text/plain": [
              "<Figure size 864x720 with 1 Axes>"
            ]
          },
          "metadata": {
            "tags": [],
            "needs_background": "light"
          }
        },
        {
          "output_type": "display_data",
          "data": {
            "image/png": "[encoded data removed]",
            "text/plain": [
              "<Figure size 864x720 with 1 Axes>"
            ]
          },
          "metadata": {
            "tags": [],
            "needs_background": "light"
          }
        }
      ]
    },
    {
      "cell_type": "code",
      "metadata": {
        "colab": {
          "base_uri": "https://localhost:8080/",
          "height": 656
        },
        "id": "7comiw8l1xv8",
        "outputId": "15ed4977-56ff-4fd5-920a-9f201543710a"
      },
      "source": [
        "Empty = [zero_med[0], one_med[0], three_med[0], other_med[0]]\r\n",
        "I_form = [zero_med[1], one_med[1], three_med[1], other_med[1]]\r\n",
        "#Jumbo = [zero[2], one[2], three[2], other[2]]\r\n",
        "#Pistol = [zero[3], one[3], three[3], other[3]]\r\n",
        "Shotgun = [zero_med[4], one_med[4], three_med[4], other_med[4]]\r\n",
        "Singleback = [zero_med[5], one_med[4], three_med[5], other_med[5]]\r\n",
        "#x_locs = np.arange(4)\r\n",
        "x_locs= np.array([1, 5, 9, 13])\r\n",
        "fig = plt.figure(figsize = (12, 10))\r\n",
        "ax = fig.add_subplot(111)\r\n",
        "width = .8\r\n",
        "bar1 = ax.bar(x_locs, Empty, width, color = '#a40000', label = 'Empty Formation')\r\n",
        "for pos in bar1:\r\n",
        "  ax.text(pos.get_x() + .4, pos.get_height(), '{:.2f}'.format(pos.get_height()), ha='center', va ='bottom', fontsize = 12)\r\n",
        "bar2 = ax.bar(x_locs + width, I_form, width, color = '#161ac4', label= 'I Formation')\r\n",
        "for pos in bar2:\r\n",
        "  ax.text(pos.get_x() + .4, pos.get_height(), '{:.2f}'.format(pos.get_height()), ha='center', va ='bottom', fontsize = 12)\r\n",
        "#bar3 = ax.bar(x_locs + width *2, Jumbo, width, color = 'b')\r\n",
        "#bar4 = ax.bar(x_locs + width *3, Pistol, width, color = '#b76c00')\r\n",
        "bar3 = ax.bar(x_locs + width *2, Shotgun, width, color = '#e29e28', label = 'Shotgun Formation')\r\n",
        "for pos in bar3:\r\n",
        "  ax.text(pos.get_x() + .4, pos.get_height(), '{:.2f}'.format(pos.get_height()), ha='center', va ='bottom', fontsize = 12)\r\n",
        "bar4 = ax.bar(x_locs + width *3, Singleback, width, color = '#16582f', label = 'Singleback Formation')\r\n",
        "for pos in bar4:\r\n",
        "  ax.text(pos.get_x() + .4, pos.get_height(), '{:.2f}'.format(pos.get_height()), ha='center', va ='bottom', fontsize = 12)\r\n",
        "ax.legend()\r\n",
        "plt.title('Average Yardage by Formation and Defensive Coverage Type', fontsize = 20)\r\n",
        "plt.ylabel('Yards', fontsize = 20)\r\n",
        "plt.xlabel('Coverage Type', fontsize = 20)\r\n",
        "plt.xticks([2.2, 6.2, 10.2, 14.2], ['Cover 0', 'Cover 1', 'Cover 3', 'Other Coverage'], fontsize = 14)\r\n",
        "plt.yticks([x for x in range(11)], fontsize = 14)\r\n",
        "plt.plot"
      ],
      "execution_count": null,
      "outputs": [
        {
          "output_type": "execute_result",
          "data": {
            "text/plain": [
              "<function matplotlib.pyplot.plot>"
            ]
          },
          "metadata": {
            "tags": []
          },
          "execution_count": 261
        },
        {
          "output_type": "display_data",
          "data": {
            "image/png": "[encoded data removed]",
            "text/plain": [
              "<Figure size 864x720 with 1 Axes>"
            ]
          },
          "metadata": {
            "tags": [],
            "needs_background": "light"
          }
        }
      ]
    },
    {
      "cell_type": "code",
      "metadata": {
        "id": "mitVAgYCX0kp"
      },
      "source": [
        "cover0_empty = plays_final.loc[(plays_final['coverage'] == 'cover 0') & (plays_final['defense'] == 'PHI') & (plays_final['offenseFormation'] == 'EMPTY')]['playResult'].mean()"
      ],
      "execution_count": null,
      "outputs": []
    },
    {
      "cell_type": "code",
      "metadata": {
        "colab": {
          "base_uri": "https://localhost:8080/"
        },
        "id": "6itXoAhfeboK",
        "outputId": "d02fdca1-038b-4a05-c945-146e94d2e0d7"
      },
      "source": [
        "cover0_empty"
      ],
      "execution_count": null,
      "outputs": [
        {
          "output_type": "execute_result",
          "data": {
            "text/plain": [
              "nan"
            ]
          },
          "metadata": {
            "tags": []
          },
          "execution_count": 134
        }
      ]
    },
    {
      "cell_type": "code",
      "metadata": {
        "colab": {
          "base_uri": "https://localhost:8080/"
        },
        "id": "e6Yfk1OiedaB",
        "outputId": "79a78219-9f85-446b-81a1-67637e65af67"
      },
      "source": [
        "plays_final.loc[(plays_final['coverage'] == 'cover 0') & (plays_final['defense'] == 'PHI')].offenseFormation.unique()"
      ],
      "execution_count": null,
      "outputs": [
        {
          "output_type": "execute_result",
          "data": {
            "text/plain": [
              "array(['SHOTGUN', 'SINGLEBACK', 'I_FORM'], dtype=object)"
            ]
          },
          "metadata": {
            "tags": []
          },
          "execution_count": 149
        }
      ]
    },
    {
      "cell_type": "code",
      "metadata": {
        "id": "5kY8VQ3Te-MS"
      },
      "source": [
        "cover0_empty = plays_final.loc[(plays_final['coverage'] == 'cover 0') & (plays_final['defense'] == 'PHI') & (plays_final['offenseFormation'] == 'EMPTY')]['playResult'].count()"
      ],
      "execution_count": null,
      "outputs": []
    },
    {
      "cell_type": "code",
      "metadata": {
        "colab": {
          "base_uri": "https://localhost:8080/"
        },
        "id": "9kQnDJr22nV5",
        "outputId": "d0729cdd-6cc9-440b-854f-1aa387008a67"
      },
      "source": [
        "cover0_empty"
      ],
      "execution_count": null,
      "outputs": [
        {
          "output_type": "execute_result",
          "data": {
            "text/plain": [
              "0"
            ]
          },
          "metadata": {
            "tags": []
          },
          "execution_count": 186
        }
      ]
    },
    {
      "cell_type": "code",
      "metadata": {
        "id": "o81b76BI2qkd"
      },
      "source": [
        ""
      ],
      "execution_count": null,
      "outputs": []
    }
  ]
}
